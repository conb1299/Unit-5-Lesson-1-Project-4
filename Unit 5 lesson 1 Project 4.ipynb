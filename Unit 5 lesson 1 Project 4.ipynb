{
 "cells": [
  {
   "cell_type": "code",
   "execution_count": 12,
   "metadata": {},
   "outputs": [
    {
     "name": "stdout",
     "output_type": "stream",
     "text": [
      "233168\n"
     ]
    }
   ],
   "source": [
    "#Problem 1:!\n",
    "x = sum(y for y in range (0,1000)\n",
    "        if y % 3 ==0 or y % 5==0) \n",
    "print (x)\n",
    "        "
   ]
  },
  {
   "cell_type": "code",
   "execution_count": 26,
   "metadata": {},
   "outputs": [],
   "source": [
    "import math"
   ]
  },
  {
   "cell_type": "code",
   "execution_count": 49,
   "metadata": {},
   "outputs": [],
   "source": [
    "#Problem 2:\n",
    "def fib(n):\n",
    "    fib_list=[]\n",
    "    for i in range(1,n+1):\n",
    "        if i <= 2:\n",
    "            fib_list.append(i)\n",
    "        else: \n",
    "            if(fib_list[-1]+fib_list[-2]) < n: # we needed to do -1 to get last element in fib_list and -2 to get second last\n",
    "                fib_list.append(fib_list[-1]+fib_list[-2])\n",
    "    \n",
    "    fib_list2=[]\n",
    "    for i in fib_list:\n",
    "        if i % 2==0:\n",
    "            fib_list2.append(i)\n",
    "    print(fib_list)\n",
    "    print(fib_list2)\n",
    "    return sum(fib_list2)"
   ]
  },
  {
   "cell_type": "code",
   "execution_count": 50,
   "metadata": {},
   "outputs": [
    {
     "name": "stdout",
     "output_type": "stream",
     "text": [
      "[1, 2, 3, 5, 8, 13, 21, 34]\n",
      "[2, 8, 34]\n"
     ]
    },
    {
     "data": {
      "text/plain": [
       "44"
      ]
     },
     "execution_count": 50,
     "metadata": {},
     "output_type": "execute_result"
    }
   ],
   "source": [
    "fib(40)"
   ]
  },
  {
   "cell_type": "code",
   "execution_count": 48,
   "metadata": {},
   "outputs": [],
   "source": [
    "# Problem 3: \n",
    "\n",
    "# returns True if parameter n is a prime number, False if composite and \"Neither prime, nor composite\" if neither\n",
    "def isPrime(n):\n",
    "    if n < 2: return \"Neither prime, nor composite\"\n",
    "    for i in range(2, int(n**0.5) + 1):\n",
    "        if n % i == 0:\n",
    "            return False\n",
    "    return True\n",
    "\n",
    "# Returns the largest prime factor of parameter n.\n",
    "# This is not my method. Someone else developed this code.\n",
    "def findLargestPrimeFactor(n):\n",
    "    primeFactor = 1\n",
    "    i = 2\n",
    "\n",
    "    while i <= n / i:\n",
    "        if n % i == 0:\n",
    "            primeFactor = i\n",
    "            n /= i\n",
    "        else:\n",
    "            i += 1\n",
    "\n",
    "    if primeFactor < n:\n",
    "        primeFactor = n\n",
    "\n",
    "    return primeFactor\n",
    "\n",
    "# returns smallest factor of parameter n\n",
    "def findSmallestFactor(n):\n",
    "    factor = 2 # start at the lowest possible factor\n",
    "    while n % factor != 0: # go until factor is a factor\n",
    "        factor += 1 # test the next factor\n",
    "    return factor"
   ]
  },
  {
   "cell_type": "code",
   "execution_count": 22,
   "metadata": {},
   "outputs": [
    {
     "data": {
      "text/plain": [
       "13597"
      ]
     },
     "execution_count": 22,
     "metadata": {},
     "output_type": "execute_result"
    }
   ],
   "source": [
    "max_prime(60085143)"
   ]
  },
  {
   "cell_type": "code",
   "execution_count": 62,
   "metadata": {},
   "outputs": [
    {
     "data": {
      "text/plain": [
       "(906609, 993, 913)"
      ]
     },
     "execution_count": 62,
     "metadata": {},
     "output_type": "execute_result"
    }
   ],
   "source": [
    "#Problem 4:!\n",
    "\n",
    "max([(x * y,x,y) for x in range(100, 1000) for y in range(100, 1000) if str(x * y) == str(x * y)[::-1]])\n"
   ]
  },
  {
   "cell_type": "code",
   "execution_count": 54,
   "metadata": {
    "collapsed": true
   },
   "outputs": [],
   "source": [
    "#Problem 5: least common multiple of a list of numbers \n",
    "\n",
    "def gcd(a, b):\n",
    "    \"\"\"Return greatest common divisor using Euclid's Algorithm.\"\"\"\n",
    "    while b:      \n",
    "        a, b = b, a % b\n",
    "    return a\n",
    "\n",
    "def lcm(a, b):\n",
    "    \"\"\"Return lowest common multiple.\"\"\"\n",
    "    return a * b // gcd(a, b)\n",
    "\n",
    "def lcmm(*args):\n",
    "    \"\"\"Return lcm of args.\"\"\"   \n",
    "    return reduce(lcm, args)"
   ]
  },
  {
   "cell_type": "code",
   "execution_count": 55,
   "metadata": {},
   "outputs": [
    {
     "ename": "NameError",
     "evalue": "name 'reduce' is not defined",
     "output_type": "error",
     "traceback": [
      "\u001b[1;31m---------------------------------------------------------------------------\u001b[0m",
      "\u001b[1;31mNameError\u001b[0m                                 Traceback (most recent call last)",
      "\u001b[1;32m<ipython-input-55-c04fe60a2332>\u001b[0m in \u001b[0;36m<module>\u001b[1;34m()\u001b[0m\n\u001b[1;32m----> 1\u001b[1;33m \u001b[0mlcmm\u001b[0m\u001b[1;33m(\u001b[0m\u001b[1;33m*\u001b[0m\u001b[0mrange\u001b[0m\u001b[1;33m(\u001b[0m\u001b[1;36m1\u001b[0m\u001b[1;33m,\u001b[0m\u001b[1;36m21\u001b[0m\u001b[1;33m)\u001b[0m\u001b[1;33m)\u001b[0m\u001b[1;33m\u001b[0m\u001b[0m\n\u001b[0m",
      "\u001b[1;32m<ipython-input-54-97dbf0a84755>\u001b[0m in \u001b[0;36mlcmm\u001b[1;34m(*args)\u001b[0m\n\u001b[0;32m     13\u001b[0m \u001b[1;32mdef\u001b[0m \u001b[0mlcmm\u001b[0m\u001b[1;33m(\u001b[0m\u001b[1;33m*\u001b[0m\u001b[0margs\u001b[0m\u001b[1;33m)\u001b[0m\u001b[1;33m:\u001b[0m\u001b[1;33m\u001b[0m\u001b[0m\n\u001b[0;32m     14\u001b[0m     \u001b[1;34m\"\"\"Return lcm of args.\"\"\"\u001b[0m\u001b[1;33m\u001b[0m\u001b[0m\n\u001b[1;32m---> 15\u001b[1;33m     \u001b[1;32mreturn\u001b[0m \u001b[0mreduce\u001b[0m\u001b[1;33m(\u001b[0m\u001b[0mlcm\u001b[0m\u001b[1;33m,\u001b[0m \u001b[0margs\u001b[0m\u001b[1;33m)\u001b[0m\u001b[1;33m\u001b[0m\u001b[0m\n\u001b[0m",
      "\u001b[1;31mNameError\u001b[0m: name 'reduce' is not defined"
     ]
    }
   ],
   "source": [
    "lcmm(*range(1,21))"
   ]
  },
  {
   "cell_type": "code",
   "execution_count": 77,
   "metadata": {},
   "outputs": [
    {
     "data": {
      "text/plain": [
       "25164150"
      ]
     },
     "execution_count": 77,
     "metadata": {},
     "output_type": "execute_result"
    }
   ],
   "source": [
    "#problem 6:!\n",
    "sum_of_squares = sum([i**2 for i in range (1,101)])\n",
    "square_of_sums = sum(i for i in range (1,101))**2\n",
    "prob_6 = square_of_sums-sum_of_squares\n",
    "prob_6        "
   ]
  },
  {
   "cell_type": "code",
   "execution_count": 82,
   "metadata": {
    "collapsed": true
   },
   "outputs": [],
   "source": [
    "#problem 7\n",
    "def prime_number (x):\n",
    "    if x<=1:\n",
    "        return False\n",
    "    if x==2:\n",
    "        return True\n",
    "    if x>2:\n",
    "        if x%2==0:\n",
    "            return False\n",
    "        for y in range (2,x):\n",
    "            if x%y==0:\n",
    "                return False\n",
    "                break\n",
    "        else: \n",
    "            print('is inside else')\n",
    "            return True\n",
    "            "
   ]
  },
  {
   "cell_type": "code",
   "execution_count": 42,
   "metadata": {},
   "outputs": [
    {
     "name": "stdout",
     "output_type": "stream",
     "text": [
      "23514624000\n"
     ]
    }
   ],
   "source": [
    "#Problem 8\n",
    "num = '\\\n",
    "73167176531330624919225119674426574742355349194934\\\n",
    "96983520312774506326239578318016984801869478851843\\\n",
    "85861560789112949495459501737958331952853208805511\\\n",
    "12540698747158523863050715693290963295227443043557\\\n",
    "66896648950445244523161731856403098711121722383113\\\n",
    "62229893423380308135336276614282806444486645238749\\\n",
    "30358907296290491560440772390713810515859307960866\\\n",
    "70172427121883998797908792274921901699720888093776\\\n",
    "65727333001053367881220235421809751254540594752243\\\n",
    "52584907711670556013604839586446706324415722155397\\\n",
    "53697817977846174064955149290862569321978468622482\\\n",
    "83972241375657056057490261407972968652414535100474\\\n",
    "82166370484403199890008895243450658541227588666881\\\n",
    "16427171479924442928230863465674813919123162824586\\\n",
    "17866458359124566529476545682848912883142607690042\\\n",
    "24219022671055626321111109370544217506941658960408\\\n",
    "07198403850962455444362981230987879927244284909188\\\n",
    "84580156166097919133875499200524063689912560717606\\\n",
    "05886116467109405077541002256983155200055935729725\\\n",
    "71636269561882670428252483600823257530420752963450'\n",
    "largestProduct = 0\n",
    "\n",
    "for i in range(0, len(num) - 13):\n",
    "\n",
    "    product = 1\n",
    "\n",
    "    for j in range(i, i + 13):\n",
    "        product *= int(num[j: j + 1])\n",
    "\n",
    "    if product > largestProduct:\n",
    "        largestProduct = product\n",
    "\n",
    "print (largestProduct)"
   ]
  },
  {
   "cell_type": "code",
   "execution_count": 44,
   "metadata": {},
   "outputs": [
    {
     "name": "stdout",
     "output_type": "stream",
     "text": [
      "200 375 425\n"
     ]
    }
   ],
   "source": [
    "#Problem 9\n",
    "def pyth(a, b, c):\n",
    "    if a ** 2 + b ** 2 == c ** 2:\n",
    "        return True\n",
    "    return False\n",
    "a = [x for x in range(1, 1000)]\n",
    "\n",
    "for num in a:\n",
    "    for dig in range(num, 1000 - num):\n",
    "        for i in range(dig, 1000 - dig):\n",
    "            if num + dig + i == 1000:\n",
    "                if pyth(num, dig, i):\n",
    "                    print(num, dig, i)"
   ]
  },
  {
   "cell_type": "code",
   "execution_count": 46,
   "metadata": {},
   "outputs": [
    {
     "name": "stdout",
     "output_type": "stream",
     "text": [
      "142913828922\n"
     ]
    }
   ],
   "source": [
    "#Problem 10\n",
    "sums = 2\n",
    "\n",
    "def isPrime(n):\n",
    "    if n % 2 == 0: return False\n",
    "    for i in range(3, int(n**0.5)+1, 2):\n",
    "        if n % i == 0: return False\n",
    "    return True\n",
    "if __name__ == \"__main__\":\n",
    "    n = 1\n",
    "    while n < 2000000:\n",
    "        n += 2\n",
    "        if isPrime(n):sums += n\n",
    "print (sums)"
   ]
  },
  {
   "cell_type": "code",
   "execution_count": null,
   "metadata": {
    "collapsed": true
   },
   "outputs": [],
   "source": []
  }
 ],
 "metadata": {
  "kernelspec": {
   "display_name": "Python 3",
   "language": "python",
   "name": "python3"
  },
  "language_info": {
   "codemirror_mode": {
    "name": "ipython",
    "version": 3
   },
   "file_extension": ".py",
   "mimetype": "text/x-python",
   "name": "python",
   "nbconvert_exporter": "python",
   "pygments_lexer": "ipython3",
   "version": "3.6.1"
  }
 },
 "nbformat": 4,
 "nbformat_minor": 2
}
